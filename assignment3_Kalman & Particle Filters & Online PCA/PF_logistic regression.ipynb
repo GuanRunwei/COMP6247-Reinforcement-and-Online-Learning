{
 "cells": [
  {
   "cell_type": "code",
   "execution_count": 2,
   "metadata": {},
   "outputs": [],
   "source": [
    "import numpy as np\n",
    "import matplotlib.pyplot as plt\n",
    "import math\n",
    "from scipy import stats"
   ]
  },
  {
   "cell_type": "code",
   "execution_count": 3,
   "metadata": {},
   "outputs": [],
   "source": [
    "def gauss_2D_sample(m, c, n=500):   # 构造双峰高斯分布\n",
    "    return np.random.multivariate_normal(m, c, size=n)\n",
    "\n",
    "\n",
    "def plot_sample(m, c, ps=None):   # 高斯分布图像化\n",
    "    if ps is None:\n",
    "        ps = gauss_2D_sample(m, c)\n",
    "#     axis.scatter([p[0] for p in ps], [p[1] for p in ps])\n",
    "    return ps\n",
    "\n",
    "\n",
    "def plot_final_result(ps1,ps2,ps, theta):\n",
    "    four_theta = [0, int(len(theta)/5), int(2*len(theta)/5), int(3*len(theta)/5), int(4*len(theta)/5), len(theta)-1]\n",
    "    for index in four_theta:\n",
    "        theta_temp = theta[index]\n",
    "        theta1 = theta_temp[0][0]\n",
    "        theta2 = theta_temp[1][0]\n",
    "        plt.scatter([p[0] for p in ps1], [p[1] for p in ps1])\n",
    "        plt.scatter([p[0] for p in ps2], [p[1] for p in ps2])\n",
    "        xx = np.linspace(ps[:, 0].min(), ps[:, 0].max(), 100)\n",
    "        yy = -(theta2 / theta1) * xx\n",
    "\n",
    "        plt.plot(xx, yy)\n",
    "        plt.xlim(-8, 8, 1)\n",
    "        plt.ylim(-8, 8, 1)\n",
    "        plt.show()"
   ]
  },
  {
   "cell_type": "code",
   "execution_count": 7,
   "metadata": {},
   "outputs": [],
   "source": [
    "def neff(weights):\n",
    "    return 1. / np.sum(np.square(weights))\n",
    "\n",
    "def sigmoid(theta, x):\n",
    "    return 1 / (1 + np.exp(-(x @ theta)))\n",
    "\n",
    "def PF(x, y, beta, R):\n",
    "    sample_num = 100\n",
    "    th_conv = np.zeros([2, 2*N])\n",
    "    \n",
    "    th_sample = np.random.randn(sample_num,2)\n",
    "    w = np.ones((sample_num,1))\n",
    "    for t in range(0, 2*N):\n",
    "        xn = x[t].reshape((2, 1))\n",
    "        for i in range(sample_num):\n",
    "            th_sample[i] = th_sample[i] + beta*np.random.randn(1,2)\n",
    "            w[i] = stats.norm(loc=sigmoid(th_sample[i], xn.T), scale=R).pdf(y[t])*w[i]\n",
    "        w += 1.e-300\n",
    "        w = w/(np.sum(w))\n",
    "        \n",
    "        if neff(w) < sample_num:\n",
    "            w_resample = np.cumsum(w)\n",
    "            w_resample[-1] = 1.  # avoid round-off error\n",
    "            indexes = np.searchsorted(w_resample, np.random.rand(sample_num))\n",
    "            # resample according to indexes\n",
    "            th_sample = th_sample[indexes]\n",
    "            w.fill(1.0 / sample_num)\n",
    "        \n",
    "        th_conv_t = (th_sample.T @ w)\n",
    "        th_conv[0,t] = th_conv_t[0]\n",
    "        th_conv[1,t] = th_conv_t[1]\n",
    "    \n",
    "    return th_conv"
   ]
  },
  {
   "cell_type": "code",
   "execution_count": 8,
   "metadata": {},
   "outputs": [],
   "source": [
    "m1 = [-3, 3]\n",
    "c1 = [[2, 1], [1, 2]]\n",
    "p1 = 0.5\n",
    "\n",
    "m2 = [3, -3]\n",
    "c2 = [[2, 1], [1, 2]]\n",
    "p2 = 0.5\n",
    "\n",
    "xlim, ylim = [-8, 8], [-8, 8]"
   ]
  },
  {
   "cell_type": "code",
   "execution_count": 9,
   "metadata": {
    "scrolled": true
   },
   "outputs": [
    {
     "ename": "IndexError",
     "evalue": "index 1000 is out of bounds for axis 0 with size 1000",
     "output_type": "error",
     "traceback": [
      "\u001b[1;31m---------------------------------------------------------------------------\u001b[0m",
      "\u001b[1;31mIndexError\u001b[0m                                Traceback (most recent call last)",
      "\u001b[1;32m<ipython-input-9-846f28571a5d>\u001b[0m in \u001b[0;36m<module>\u001b[1;34m\u001b[0m\n\u001b[0;32m     12\u001b[0m \u001b[0mdata_clusters\u001b[0m \u001b[1;33m=\u001b[0m \u001b[0mnp\u001b[0m\u001b[1;33m.\u001b[0m\u001b[0mconcatenate\u001b[0m\u001b[1;33m(\u001b[0m\u001b[1;33m(\u001b[0m\u001b[0mdata_cluster1\u001b[0m\u001b[1;33m,\u001b[0m \u001b[0mdata_cluster2\u001b[0m\u001b[1;33m)\u001b[0m\u001b[1;33m,\u001b[0m \u001b[0maxis\u001b[0m\u001b[1;33m=\u001b[0m\u001b[1;36m0\u001b[0m\u001b[1;33m)\u001b[0m\u001b[1;33m\u001b[0m\u001b[1;33m\u001b[0m\u001b[0m\n\u001b[0;32m     13\u001b[0m \u001b[1;33m\u001b[0m\u001b[0m\n\u001b[1;32m---> 14\u001b[1;33m \u001b[0mtheta_cov\u001b[0m \u001b[1;33m=\u001b[0m \u001b[0mPF\u001b[0m\u001b[1;33m(\u001b[0m\u001b[0mdata_clusters\u001b[0m\u001b[1;33m[\u001b[0m\u001b[1;33m:\u001b[0m\u001b[1;33m,\u001b[0m \u001b[1;33m:\u001b[0m\u001b[1;36m2\u001b[0m\u001b[1;33m]\u001b[0m\u001b[1;33m,\u001b[0m \u001b[0mdata_clusters\u001b[0m\u001b[1;33m[\u001b[0m\u001b[1;33m:\u001b[0m\u001b[1;33m,\u001b[0m \u001b[1;33m-\u001b[0m\u001b[1;36m1\u001b[0m\u001b[1;33m]\u001b[0m\u001b[1;33m,\u001b[0m \u001b[1;36m0.01\u001b[0m\u001b[1;33m,\u001b[0m \u001b[1;36m1\u001b[0m\u001b[1;33m)\u001b[0m\u001b[1;33m\u001b[0m\u001b[1;33m\u001b[0m\u001b[0m\n\u001b[0m\u001b[0;32m     15\u001b[0m \u001b[0mprint\u001b[0m\u001b[1;33m(\u001b[0m\u001b[0mtheta_cov\u001b[0m\u001b[1;33m)\u001b[0m\u001b[1;33m\u001b[0m\u001b[1;33m\u001b[0m\u001b[0m\n",
      "\u001b[1;32m<ipython-input-7-0eb4be5df639>\u001b[0m in \u001b[0;36mPF\u001b[1;34m(x, y, beta, R)\u001b[0m\n\u001b[0;32m     12\u001b[0m     \u001b[0mw\u001b[0m \u001b[1;33m=\u001b[0m \u001b[0mnp\u001b[0m\u001b[1;33m.\u001b[0m\u001b[0mones\u001b[0m\u001b[1;33m(\u001b[0m\u001b[1;33m(\u001b[0m\u001b[0msample_num\u001b[0m\u001b[1;33m,\u001b[0m\u001b[1;36m1\u001b[0m\u001b[1;33m)\u001b[0m\u001b[1;33m)\u001b[0m\u001b[1;33m\u001b[0m\u001b[1;33m\u001b[0m\u001b[0m\n\u001b[0;32m     13\u001b[0m     \u001b[1;32mfor\u001b[0m \u001b[0mt\u001b[0m \u001b[1;32min\u001b[0m \u001b[0mrange\u001b[0m\u001b[1;33m(\u001b[0m\u001b[1;36m0\u001b[0m\u001b[1;33m,\u001b[0m \u001b[1;36m2\u001b[0m\u001b[1;33m*\u001b[0m\u001b[0mN\u001b[0m\u001b[1;33m)\u001b[0m\u001b[1;33m:\u001b[0m\u001b[1;33m\u001b[0m\u001b[1;33m\u001b[0m\u001b[0m\n\u001b[1;32m---> 14\u001b[1;33m         \u001b[0mxn\u001b[0m \u001b[1;33m=\u001b[0m \u001b[0mx\u001b[0m\u001b[1;33m[\u001b[0m\u001b[0mt\u001b[0m\u001b[1;33m]\u001b[0m\u001b[1;33m.\u001b[0m\u001b[0mreshape\u001b[0m\u001b[1;33m(\u001b[0m\u001b[1;33m(\u001b[0m\u001b[1;36m2\u001b[0m\u001b[1;33m,\u001b[0m \u001b[1;36m1\u001b[0m\u001b[1;33m)\u001b[0m\u001b[1;33m)\u001b[0m\u001b[1;33m\u001b[0m\u001b[1;33m\u001b[0m\u001b[0m\n\u001b[0m\u001b[0;32m     15\u001b[0m         \u001b[1;32mfor\u001b[0m \u001b[0mi\u001b[0m \u001b[1;32min\u001b[0m \u001b[0mrange\u001b[0m\u001b[1;33m(\u001b[0m\u001b[0msample_num\u001b[0m\u001b[1;33m)\u001b[0m\u001b[1;33m:\u001b[0m\u001b[1;33m\u001b[0m\u001b[1;33m\u001b[0m\u001b[0m\n\u001b[0;32m     16\u001b[0m             \u001b[0mth_sample\u001b[0m\u001b[1;33m[\u001b[0m\u001b[0mi\u001b[0m\u001b[1;33m]\u001b[0m \u001b[1;33m=\u001b[0m \u001b[0mth_sample\u001b[0m\u001b[1;33m[\u001b[0m\u001b[0mi\u001b[0m\u001b[1;33m]\u001b[0m \u001b[1;33m+\u001b[0m \u001b[0mbeta\u001b[0m\u001b[1;33m*\u001b[0m\u001b[0mnp\u001b[0m\u001b[1;33m.\u001b[0m\u001b[0mrandom\u001b[0m\u001b[1;33m.\u001b[0m\u001b[0mrandn\u001b[0m\u001b[1;33m(\u001b[0m\u001b[1;36m1\u001b[0m\u001b[1;33m,\u001b[0m\u001b[1;36m2\u001b[0m\u001b[1;33m)\u001b[0m\u001b[1;33m\u001b[0m\u001b[1;33m\u001b[0m\u001b[0m\n",
      "\u001b[1;31mIndexError\u001b[0m: index 1000 is out of bounds for axis 0 with size 1000"
     ]
    }
   ],
   "source": [
    "N = 1000\n",
    "\n",
    "data_cluster1 = np.array(plot_sample(m1, c1))\n",
    "d_1 = data_cluster1\n",
    "data_cluster1 = np.c_[data_cluster1, np.zeros(len(data_cluster1))]\n",
    "\n",
    "\n",
    "data_cluster2 = np.array(plot_sample(m2, c2))\n",
    "d_2 = data_cluster2\n",
    "data_cluster2 = np.c_[data_cluster2, np.ones(len(data_cluster2))]\n",
    "\n",
    "data_clusters = np.concatenate((data_cluster1, data_cluster2), axis=0)\n",
    "\n",
    "theta_cov = PF(data_clusters[:, :2], data_clusters[:, -1], 0.01, 1)\n",
    "print(theta_cov)"
   ]
  },
  {
   "cell_type": "code",
   "execution_count": null,
   "metadata": {},
   "outputs": [],
   "source": []
  },
  {
   "cell_type": "code",
   "execution_count": null,
   "metadata": {},
   "outputs": [],
   "source": []
  }
 ],
 "metadata": {
  "kernelspec": {
   "display_name": "Python 3",
   "language": "python",
   "name": "python3"
  },
  "language_info": {
   "codemirror_mode": {
    "name": "ipython",
    "version": 3
   },
   "file_extension": ".py",
   "mimetype": "text/x-python",
   "name": "python",
   "nbconvert_exporter": "python",
   "pygments_lexer": "ipython3",
   "version": "3.7.4"
  }
 },
 "nbformat": 4,
 "nbformat_minor": 2
}
